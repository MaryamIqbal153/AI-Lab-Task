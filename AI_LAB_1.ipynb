{
  "nbformat": 4,
  "nbformat_minor": 0,
  "metadata": {
    "colab": {
      "provenance": [],
      "toc_visible": true,
      "gpuType": "T4"
    },
    "kernelspec": {
      "name": "python3",
      "display_name": "Python 3"
    },
    "language_info": {
      "name": "python"
    },
    "accelerator": "GPU"
  },
  "cells": [
    {
      "cell_type": "code",
      "execution_count": 5,
      "metadata": {
        "colab": {
          "base_uri": "https://localhost:8080/"
        },
        "id": "ORmnEMPWCvsm",
        "outputId": "4ed01f21-abb9-4164-841a-befbcb037d5c"
      },
      "outputs": [
        {
          "output_type": "stream",
          "name": "stdout",
          "text": [
            "Maryam\n"
          ]
        }
      ],
      "source": [
        "print(\"Maryam\");\n"
      ]
    },
    {
      "cell_type": "markdown",
      "source": [
        "**# Maryam Iqbal**\n",
        "\n",
        "\n",
        "1.  **Addition**\n",
        "2.   **Subtraction**\n",
        "3.   **Multiplication**\n",
        "4.   **Division**\n",
        "\n"
      ],
      "metadata": {
        "id": "uLpi9XCFEx-I"
      }
    },
    {
      "cell_type": "code",
      "source": [
        "a=5;\n",
        "b=6;\n",
        "\n",
        "print(a+b);\n"
      ],
      "metadata": {
        "colab": {
          "base_uri": "https://localhost:8080/"
        },
        "id": "2x20PgzCGYvJ",
        "outputId": "fb8e6892-4796-45da-9eaf-af5ebf4ed684"
      },
      "execution_count": 12,
      "outputs": [
        {
          "output_type": "stream",
          "name": "stdout",
          "text": [
            "11\n"
          ]
        }
      ]
    },
    {
      "cell_type": "code",
      "source": [
        "a=5\n",
        "b=6\n",
        "\n",
        "print(a-b)\n"
      ],
      "metadata": {
        "colab": {
          "base_uri": "https://localhost:8080/"
        },
        "id": "f8UmxfZVGleR",
        "outputId": "8d81ea7b-4c0e-48a1-b9c7-36b623d174cf"
      },
      "execution_count": 11,
      "outputs": [
        {
          "output_type": "stream",
          "name": "stdout",
          "text": [
            "-1\n"
          ]
        }
      ]
    },
    {
      "cell_type": "code",
      "source": [
        "a=5;\n",
        "b=6;\n",
        "\n",
        "print(a*b);\n"
      ],
      "metadata": {
        "colab": {
          "base_uri": "https://localhost:8080/"
        },
        "id": "CNXn_fHjGpGi",
        "outputId": "3371ea0d-96ae-45c8-a21f-698c578b4f3f"
      },
      "execution_count": 13,
      "outputs": [
        {
          "output_type": "stream",
          "name": "stdout",
          "text": [
            "30\n"
          ]
        }
      ]
    },
    {
      "cell_type": "code",
      "source": [
        "a=5;\n",
        "b=6;\n",
        "\n",
        "print(a/b);"
      ],
      "metadata": {
        "colab": {
          "base_uri": "https://localhost:8080/"
        },
        "id": "lJH4oXU-Gr5q",
        "outputId": "63daf1d3-b4d9-44a0-cd9b-d977d8f8f0e1"
      },
      "execution_count": 14,
      "outputs": [
        {
          "output_type": "stream",
          "name": "stdout",
          "text": [
            "0.8333333333333334\n"
          ]
        }
      ]
    }
  ]
}