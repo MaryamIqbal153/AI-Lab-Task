{
  "nbformat": 4,
  "nbformat_minor": 0,
  "metadata": {
    "colab": {
      "provenance": []
    },
    "kernelspec": {
      "name": "python3",
      "display_name": "Python 3"
    },
    "language_info": {
      "name": "python"
    }
  },
  "cells": [
    {
      "cell_type": "markdown",
      "source": [
        "**1. Import deque for efficient queue operations**"
      ],
      "metadata": {
        "id": "76pQ2RNDJP3m"
      }
    },
    {
      "cell_type": "code",
      "execution_count": 1,
      "metadata": {
        "id": "1j0vXcUEISNq"
      },
      "outputs": [],
      "source": [
        "from collections import deque"
      ]
    },
    {
      "cell_type": "markdown",
      "source": [
        "**Step 1: Represent the graph**"
      ],
      "metadata": {
        "id": "99U4n0dyJgVO"
      }
    },
    {
      "cell_type": "code",
      "source": [
        "\n",
        "pakistan_cities = {\n",
        "    'Karachi': ['Hyderabad'],\n",
        "    'Hyderabad': ['Karachi', 'Sukkur'],\n",
        "    'Sukkur': ['Hyderabad', 'Multan', 'Quetta'],\n",
        "    'Multan': ['Sukkur', 'Lahore'],\n",
        "    'Quetta': ['Sukkur'],\n",
        "    'Lahore': ['Multan', 'Islamabad'],\n",
        "    'Islamabad': ['Lahore', 'Peshawar'],\n",
        "    'Peshawar': ['Islamabad']\n",
        "}"
      ],
      "metadata": {
        "id": "P8-lwBEcJjbl"
      },
      "execution_count": 2,
      "outputs": []
    },
    {
      "cell_type": "markdown",
      "source": [
        "**Step 2: BFS and DFS Implementation**"
      ],
      "metadata": {
        "id": "e5WIo0-IJ0Zt"
      }
    },
    {
      "cell_type": "code",
      "source": [
        "def bfs_shortest_path(graph, start, goal):\n",
        "\n",
        "    queue = deque([[start]])\n",
        "\n",
        "    # Keep track of visited cities to avoid revisiting\n",
        "    visited = set()\n",
        "\n",
        "#Keep looping while there are paths left to explore.\n",
        "    while queue:\n",
        "        # Remove the first path from the queue (FIFO)\n",
        "        path = queue.popleft()\n",
        "        current_city = path[-1]  # Get the last node in the path, which is where you are now.\n",
        "\n",
        "        # If the goal is reached, return this path immediately\n",
        "        if current_city == goal:\n",
        "            return path\n",
        "\n",
        "        # If the current city has not been visited yet\n",
        "        if current_city not in visited:\n",
        "            visited.add(current_city)  # Mark it as visited\n",
        "\n",
        "            # Loop through all neighboring cities\n",
        "            #key = current_city → the city we are currently exploring.\n",
        "            #default_value = [] → an empty list.\n",
        "            #This is a for loop that iterates through every neighbor of the current_city.\n",
        "            #Each loop step gives you one neighbor at a time.\n",
        "            #If current_city = 'A', and 'A' is connected to 'B' and 'C':\n",
        "            for neighbor in graph.get(current_city, []):\n",
        "                # Create a new path with the neighbor added\n",
        "                #Makes a safe copy of the current path so changes won’t affect the original one\n",
        "                new_path = list(path)  # Copy the current path\n",
        "                #Extends the copied path by adding the neighbor city to the end.\n",
        "                new_path.append(neighbor)\n",
        "\n",
        "                # Add the new path to the queue\n",
        "                #Why needed?\n",
        "              #Keeps BFS exploring paths in order, ensuring the shortest path is found.\n",
        "                queue.append(new_path)\n",
        "\n",
        "    # If we exhaust the queue and never find the goal\n",
        "    #return None means no path exists, so the function stops and gives back 'nothing found' as the result.\"\n",
        "    return None\n",
        "#This function is like a map explorer that starts at one city\n",
        "# and keeps going deeper step-by-step to find the goal, while remembering the path and visited cities.\n",
        "def dfs_path(graph, start, goal, path=None, visited=None):\n",
        "\n",
        "    # Initialize path and visited on the first call\n",
        "    \"path starts as an empty list to record the route you take.\"\n",
        "    if path is None:\n",
        "        path = []\n",
        "        \"visited starts as an empty set to remember visited places so you don't repeat them.\"\n",
        "    if visited is None:\n",
        "        visited = set()\n",
        "\n",
        "    # Add current city to the path and mark as visited\n",
        "    #Record the starting point in your route.\n",
        "    path.append(start)\n",
        "    #Mark it as visited to avoid cycles.\n",
        "    visited.add(start)\n",
        "\n",
        "    # If goal is reached, return the path\n",
        "    if start == goal:\n",
        "        return path\n",
        "\n",
        "    # Explore each neighbor recursively\n",
        "    #Gets all neighbors of the current node. Returns [] if no neighbors exist.\n",
        "    for neighbor in graph.get(start, []):\n",
        "        if neighbor not in visited:\n",
        "# Make recursive DFS call\n",
        "# graph\tThe entire map of nodes and connections.\n",
        "#neighbor\tThe next node to explore.\n",
        "#goal\tThe final target node to reach.\n",
        "#path.copy()\tSafe copy of the current route.\n",
        "#visited.copy()\tSafe copy of visited nodes to prevent loops.\n",
        "#result = dfs_path(...)\tGo deeper into the graph and store the result.\n",
        "            result = dfs_path(graph, neighbor, goal, path.copy(), visited.copy())\n",
        "\n",
        "            # If a path is found, return it immediately\n",
        "            if result:\n",
        "                return result\n",
        "\n",
        "    # If no path found from this city, return None\n",
        "    return None\n",
        "\n",
        "# -------------------------------------------\n",
        "# Step 4: Testing the functions\n",
        "# -------------------------------------------\n",
        "start_city = \"Peshawar\"\n",
        "goal_city = \"Islamabad\"\n",
        "\n",
        "\n",
        "# BFS for the shortest path\n",
        "bfs_result = bfs_shortest_path(pakistan_cities, start_city, goal_city)\n",
        "print(\"BFS Shortest Path from Peshawar to Islamabad:\", bfs_result)\n",
        "# DFS for any path\n",
        "dfs_result = dfs_path(pakistan_cities, start_city, goal_city)\n",
        "print(\"DFS Path from Peshawar to Islamabad:\", dfs_result)\n",
        "\n"
      ],
      "metadata": {
        "colab": {
          "base_uri": "https://localhost:8080/"
        },
        "id": "XKuGDyd7J6oc",
        "outputId": "102dbdb8-6e60-41d7-c249-be4fb5947fde"
      },
      "execution_count": 4,
      "outputs": [
        {
          "output_type": "stream",
          "name": "stdout",
          "text": [
            "BFS Shortest Path from Peshawar to Islamabad: ['Peshawar', 'Islamabad']\n",
            "DFS Path from Peshawar to Islamabad: ['Peshawar', 'Islamabad']\n"
          ]
        }
      ]
    },
    {
      "cell_type": "markdown",
      "source": [],
      "metadata": {
        "id": "AEuaPUdIKMpN"
      }
    }
  ]
}