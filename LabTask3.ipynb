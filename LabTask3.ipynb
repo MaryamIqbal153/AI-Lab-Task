{
  "nbformat": 4,
  "nbformat_minor": 0,
  "metadata": {
    "colab": {
      "provenance": []
    },
    "kernelspec": {
      "name": "python3",
      "display_name": "Python 3"
    },
    "language_info": {
      "name": "python"
    }
  },
  "cells": [
    {
      "cell_type": "markdown",
      "source": [
        "**1. Import deque for efficient queue operations**"
      ],
      "metadata": {
        "id": "76pQ2RNDJP3m"
      }
    },
    {
      "cell_type": "code",
      "execution_count": 1,
      "metadata": {
        "id": "1j0vXcUEISNq"
      },
      "outputs": [],
      "source": [
        "from collections import deque"
      ]
    },
    {
      "cell_type": "markdown",
      "source": [
        "**Step 1: Represent the graph**"
      ],
      "metadata": {
        "id": "99U4n0dyJgVO"
      }
    },
    {
      "cell_type": "code",
      "source": [
        "\n",
        "pakistan_cities = {\n",
        "    'Karachi': ['Hyderabad'],\n",
        "    'Hyderabad': ['Karachi', 'Sukkur'],\n",
        "    'Sukkur': ['Hyderabad', 'Multan', 'Quetta'],\n",
        "    'Multan': ['Sukkur', 'Lahore'],\n",
        "    'Quetta': ['Sukkur'],\n",
        "    'Lahore': ['Multan', 'Islamabad'],\n",
        "    'Islamabad': ['Lahore', 'Peshawar'],\n",
        "    'Peshawar': ['Islamabad']\n",
        "}"
      ],
      "metadata": {
        "id": "P8-lwBEcJjbl"
      },
      "execution_count": 2,
      "outputs": []
    },
    {
      "cell_type": "markdown",
      "source": [
        "**Step 2: BFS and DFS Implementation**"
      ],
      "metadata": {
        "id": "e5WIo0-IJ0Zt"
      }
    },
    {
      "cell_type": "markdown",
      "source": [
        "**Breadth First Search**"
      ],
      "metadata": {
        "id": "2L2QJ5_fcAGy"
      }
    },
    {
      "cell_type": "code",
      "source": [
        "\n",
        "\n",
        "def dfs_path(graph, start, goal, path=None, visited=None):\n",
        "\n",
        "\n",
        "    \"path starts as an empty list to record the route you take.\"\n",
        "    if path is None:\n",
        "        path = []\n",
        "        \"visited starts as an empty set to remember visited places so you don't repeat them.\"\n",
        "    if visited is None:\n",
        "        visited = set()\n",
        "\n",
        "\n",
        "    path.append(start)\n",
        "\n",
        "    visited.add(start)\n",
        "\n",
        "\n",
        "    if start == goal:\n",
        "        return path\n",
        "\n",
        "\n",
        "    for neighbor in graph.get(start, []):\n",
        "        if neighbor not in visited:\n",
        "\n",
        "            result = dfs_path(graph, neighbor, goal, path.copy(), visited.copy())\n",
        "\n",
        "\n",
        "            if result:\n",
        "                return result\n",
        "\n",
        "\n",
        "    return None\n",
        "\n",
        "\n",
        "start_city = \"Peshawar\"\n",
        "goal_city = \"Multan\"\n",
        "\n",
        "\n",
        "\n",
        "bfs_result = bfs_shortest_path(pakistan_cities, start_city, goal_city)\n",
        "print(\"BFS Shortest Path from Peshawar to Multan:\", bfs_result)\n",
        "\n",
        "\n",
        "\n"
      ],
      "metadata": {
        "colab": {
          "base_uri": "https://localhost:8080/"
        },
        "id": "XKuGDyd7J6oc",
        "outputId": "fb0f0e14-b30d-43c3-f6f9-72f3ace6bf35"
      },
      "execution_count": 6,
      "outputs": [
        {
          "output_type": "stream",
          "name": "stdout",
          "text": [
            "BFS Shortest Path from Peshawar to Multan: ['Peshawar', 'Islamabad', 'Lahore', 'Multan']\n"
          ]
        }
      ]
    },
    {
      "cell_type": "markdown",
      "source": [
        "**Depth First Search**"
      ],
      "metadata": {
        "id": "ia6iH1yxbyDy"
      }
    },
    {
      "cell_type": "code",
      "source": [
        "def dfs_path(graph, start, goal, path=None, visited=None):\n",
        "\n",
        "\n",
        "    \"path starts as an empty list to record the route you take.\"\n",
        "    if path is None:\n",
        "        path = []\n",
        "        \"visited starts as an empty set to remember visited places so you don't repeat them.\"\n",
        "    if visited is None:\n",
        "        visited = set()\n",
        "\n",
        "\n",
        "    path.append(start)\n",
        "\n",
        "    visited.add(start)\n",
        "\n",
        "\n",
        "    if start == goal:\n",
        "        return path\n",
        "\n",
        "\n",
        "    for neighbor in graph.get(start, []):\n",
        "        if neighbor not in visited:\n",
        "\n",
        "            result = dfs_path(graph, neighbor, goal, path.copy(), visited.copy())\n",
        "\n",
        "\n",
        "            if result:\n",
        "                return result\n",
        "\n",
        "\n",
        "    return None\n",
        "\n",
        "\n",
        "start_city = \"Peshawar\"\n",
        "goal_city = \"Multan\"\n",
        "\n",
        "dfs_result = dfs_path(pakistan_cities, start_city, goal_city)\n",
        "print(\"DFS Path from Peshawar to Multan:\", dfs_result)\n",
        "\n"
      ],
      "metadata": {
        "colab": {
          "base_uri": "https://localhost:8080/"
        },
        "id": "fC3u_RZybygq",
        "outputId": "cf9b7d4d-234a-43d9-94c3-64f0d972b5b6"
      },
      "execution_count": 7,
      "outputs": [
        {
          "output_type": "stream",
          "name": "stdout",
          "text": [
            "DFS Path from Peshawar to Multan: ['Peshawar', 'Islamabad', 'Lahore', 'Multan']\n"
          ]
        }
      ]
    }
  ]
}