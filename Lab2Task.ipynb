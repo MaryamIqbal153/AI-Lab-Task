{
  "nbformat": 4,
  "nbformat_minor": 0,
  "metadata": {
    "colab": {
      "provenance": []
    },
    "kernelspec": {
      "name": "python3",
      "display_name": "Python 3"
    },
    "language_info": {
      "name": "python"
    }
  },
  "cells": [
    {
      "cell_type": "markdown",
      "source": [
        "Matpolib\n",
        "\n",
        "\n",
        "\n",
        "\n",
        "\n",
        "\n"
      ],
      "metadata": {
        "id": "qgUKVjHaDgw0"
      }
    },
    {
      "cell_type": "markdown",
      "source": [
        "Numpy\n"
      ],
      "metadata": {
        "id": "xNDb7W5QEMcL"
      }
    },
    {
      "cell_type": "markdown",
      "source": [
        "List\n"
      ],
      "metadata": {
        "id": "ojhUuS28EPjQ"
      }
    },
    {
      "cell_type": "code",
      "source": [
        "num=[1,2,3,4,5,6,7,8,9,10]\n",
        "print(num)"
      ],
      "metadata": {
        "colab": {
          "base_uri": "https://localhost:8080/"
        },
        "id": "IO5O6lFhNihX",
        "outputId": "c7158b4c-3492-4e69-9647-556c4dc0aee8"
      },
      "execution_count": 1,
      "outputs": [
        {
          "output_type": "stream",
          "name": "stdout",
          "text": [
            "[1, 2, 3, 4, 5, 6, 7, 8, 9, 10]\n"
          ]
        }
      ]
    },
    {
      "cell_type": "code",
      "source": [
        "num=[1,2,3,4,5,6,7,8,9,10]\n",
        "print(\"Sum: \",sum(num))\n"
      ],
      "metadata": {
        "colab": {
          "base_uri": "https://localhost:8080/"
        },
        "id": "P0Bsw32vOdvt",
        "outputId": "3b7fb8f5-1ee0-4998-be5a-feb4624c1ce2"
      },
      "execution_count": 5,
      "outputs": [
        {
          "output_type": "stream",
          "name": "stdout",
          "text": [
            "Sum:  55\n"
          ]
        }
      ]
    },
    {
      "cell_type": "code",
      "source": [
        "num=[1,2,3,4,5,6,7,8,9,10]\n",
        "print(\"Min: \",min(num))\n",
        "print(\"Max: \",max(num))"
      ],
      "metadata": {
        "colab": {
          "base_uri": "https://localhost:8080/"
        },
        "id": "qqCAtfcKOlnT",
        "outputId": "bd37987f-d895-4c99-fa0c-da0ee9edcae3"
      },
      "execution_count": 6,
      "outputs": [
        {
          "output_type": "stream",
          "name": "stdout",
          "text": [
            "Min:  1\n",
            "Max:  10\n"
          ]
        }
      ]
    },
    {
      "cell_type": "code",
      "source": [
        "num=[1,2,3,4,5,6,7,8,9,10]\n",
        "num.append(11)\n",
        "print(\"Updated List\",num)"
      ],
      "metadata": {
        "colab": {
          "base_uri": "https://localhost:8080/"
        },
        "id": "tbzOWF0APM7b",
        "outputId": "29e364c4-5019-4ca4-e468-163f1c80c837"
      },
      "execution_count": 8,
      "outputs": [
        {
          "output_type": "stream",
          "name": "stdout",
          "text": [
            "Updated List [1, 2, 3, 4, 5, 6, 7, 8, 9, 10, 11]\n"
          ]
        }
      ]
    },
    {
      "cell_type": "code",
      "source": [
        "num=[1,2,3,4,5,6,7,8,9,10]\n",
        "print(\"Ascending: \",sorted(num))\n",
        "print(\"Descending: \",sorted(num,reverse=True))"
      ],
      "metadata": {
        "colab": {
          "base_uri": "https://localhost:8080/"
        },
        "id": "UUp1_A27PYYj",
        "outputId": "36845580-60ec-432b-8b79-8c166f2cbd5e"
      },
      "execution_count": 9,
      "outputs": [
        {
          "output_type": "stream",
          "name": "stdout",
          "text": [
            "Ascending:  [1, 2, 3, 4, 5, 6, 7, 8, 9, 10]\n",
            "Descending:  [10, 9, 8, 7, 6, 5, 4, 3, 2, 1]\n"
          ]
        }
      ]
    },
    {
      "cell_type": "markdown",
      "source": [
        "Tuple"
      ],
      "metadata": {
        "id": "yhzgDgEXEaFg"
      }
    },
    {
      "cell_type": "code",
      "source": [
        "fruits=(\"mango\",\"orange\",\"strawberry\",\"cherry\",\"pineapple\")\n",
        "print(fruits)"
      ],
      "metadata": {
        "colab": {
          "base_uri": "https://localhost:8080/"
        },
        "id": "u8jxJePXNurt",
        "outputId": "9a483307-3fe0-4957-b44f-d9ebe0cba460"
      },
      "execution_count": 3,
      "outputs": [
        {
          "output_type": "stream",
          "name": "stdout",
          "text": [
            "('mango', 'orange', 'strawberry', 'cherry', 'pineapple')\n"
          ]
        }
      ]
    },
    {
      "cell_type": "code",
      "source": [
        "fruits=(\"mango\",\"orange\",\"strawberry\",\"cherry\",\"pineapple\")\n",
        "print(\"1st element: \",fruits[0])\n",
        "print(\"last element: \",fruits[-1])\n"
      ],
      "metadata": {
        "colab": {
          "base_uri": "https://localhost:8080/"
        },
        "id": "LxusIrvfN-vc",
        "outputId": "899f0107-4679-4078-ae34-41e2e2aa4534"
      },
      "execution_count": 4,
      "outputs": [
        {
          "output_type": "stream",
          "name": "stdout",
          "text": [
            "1st element:  mango\n",
            "last element:  pineapple\n"
          ]
        }
      ]
    },
    {
      "cell_type": "code",
      "source": [
        "fruits=(\"mango\",\"orange\",\"strawberry\",\"cherry\",\"pineapple\")\n",
        "fruits.append(\"banana\")"
      ],
      "metadata": {
        "colab": {
          "base_uri": "https://localhost:8080/",
          "height": 159
        },
        "id": "brIX23q8Ot4L",
        "outputId": "38290de2-a239-4023-be2e-229275397304"
      },
      "execution_count": 7,
      "outputs": [
        {
          "output_type": "error",
          "ename": "AttributeError",
          "evalue": "'tuple' object has no attribute 'append'",
          "traceback": [
            "\u001b[0;31m---------------------------------------------------------------------------\u001b[0m",
            "\u001b[0;31mAttributeError\u001b[0m                            Traceback (most recent call last)",
            "\u001b[0;32m/tmp/ipython-input-675036654.py\u001b[0m in \u001b[0;36m<cell line: 0>\u001b[0;34m()\u001b[0m\n\u001b[1;32m      1\u001b[0m \u001b[0mfruits\u001b[0m\u001b[0;34m=\u001b[0m\u001b[0;34m(\u001b[0m\u001b[0;34m\"mango\"\u001b[0m\u001b[0;34m,\u001b[0m\u001b[0;34m\"orange\"\u001b[0m\u001b[0;34m,\u001b[0m\u001b[0;34m\"strawberry\"\u001b[0m\u001b[0;34m,\u001b[0m\u001b[0;34m\"cherry\"\u001b[0m\u001b[0;34m,\u001b[0m\u001b[0;34m\"pineapple\"\u001b[0m\u001b[0;34m)\u001b[0m\u001b[0;34m\u001b[0m\u001b[0;34m\u001b[0m\u001b[0m\n\u001b[0;32m----> 2\u001b[0;31m \u001b[0mfruits\u001b[0m\u001b[0;34m.\u001b[0m\u001b[0mappend\u001b[0m\u001b[0;34m(\u001b[0m\u001b[0;34m\"banana\"\u001b[0m\u001b[0;34m)\u001b[0m\u001b[0;34m\u001b[0m\u001b[0;34m\u001b[0m\u001b[0m\n\u001b[0m",
            "\u001b[0;31mAttributeError\u001b[0m: 'tuple' object has no attribute 'append'"
          ]
        }
      ]
    },
    {
      "cell_type": "code",
      "source": [
        "fruits=(\"mango\",\"orange\",\"strawberry\",\"cherry\",\"pineapple\")\n",
        "fruits_list=list(fruits)\n",
        "fruits_list[2]=\"banana\"\n",
        "\n",
        "print(\"Modified List: \",fruits_list)"
      ],
      "metadata": {
        "colab": {
          "base_uri": "https://localhost:8080/"
        },
        "id": "leImHFj1PsI-",
        "outputId": "91f0a628-fa4b-4eb6-c737-0a6123efb7fa"
      },
      "execution_count": 16,
      "outputs": [
        {
          "output_type": "stream",
          "name": "stdout",
          "text": [
            "Modified List:  ['mango', 'orange', 'banana', 'cherry', 'pineapple']\n"
          ]
        }
      ]
    },
    {
      "cell_type": "markdown",
      "source": [
        "Set"
      ],
      "metadata": {
        "id": "2AOQtWE4Ebqg"
      }
    },
    {
      "cell_type": "code",
      "source": [
        "set1={1,2,3,4,5,6,7,8,9,10}\n",
        "set2={11,12,13,14,15,16,17,18,19,20}\n",
        "print(set1)\n",
        "print(set2)"
      ],
      "metadata": {
        "colab": {
          "base_uri": "https://localhost:8080/"
        },
        "id": "WEmKRhfPUNZJ",
        "outputId": "30958453-4d8c-4ee6-af93-12228986c2e1"
      },
      "execution_count": 17,
      "outputs": [
        {
          "output_type": "stream",
          "name": "stdout",
          "text": [
            "{1, 2, 3, 4, 5, 6, 7, 8, 9, 10}\n",
            "{11, 12, 13, 14, 15, 16, 17, 18, 19, 20}\n"
          ]
        }
      ]
    },
    {
      "cell_type": "code",
      "source": [
        "set1={1,2,3,4,5,6,7,8,9,10}\n",
        "set2={10,11,12,13,14,15,16,17,18,19,20}\n",
        "print(\"Union: \",set1.union(set2))\n",
        "print(\"Intersection: \",set1.intersection(set2))\n",
        "print(\"Difference: \",set1.difference(set2))"
      ],
      "metadata": {
        "colab": {
          "base_uri": "https://localhost:8080/"
        },
        "id": "hC9n09lHU0Iv",
        "outputId": "d2f6017e-aa16-408e-fb3c-3ba7bfb6defb"
      },
      "execution_count": 21,
      "outputs": [
        {
          "output_type": "stream",
          "name": "stdout",
          "text": [
            "Union:  {1, 2, 3, 4, 5, 6, 7, 8, 9, 10, 11, 12, 13, 14, 15, 16, 17, 18, 19, 20}\n",
            "Intersection:  {10}\n",
            "Difference:  {1, 2, 3, 4, 5, 6, 7, 8, 9}\n"
          ]
        }
      ]
    },
    {
      "cell_type": "code",
      "source": [
        "set1={1,2,3,4,5}\n",
        "set2={4,5,6,7,8}\n",
        "set1.add(6)\n",
        "set2.remove(7)\n",
        "print(\"Updated Set1: \",set1)\n",
        "print(\"Updated Set2: \",set2)"
      ],
      "metadata": {
        "colab": {
          "base_uri": "https://localhost:8080/"
        },
        "id": "gf-Qhk6_VkfY",
        "outputId": "47f73432-352c-4861-f9f0-b517c8386ef4"
      },
      "execution_count": 22,
      "outputs": [
        {
          "output_type": "stream",
          "name": "stdout",
          "text": [
            "Updated Set1:  {1, 2, 3, 4, 5, 6}\n",
            "Updated Set2:  {4, 5, 6, 8}\n"
          ]
        }
      ]
    },
    {
      "cell_type": "markdown",
      "source": [
        "Dictionary\n"
      ],
      "metadata": {
        "id": "19zCvNjWEd0w"
      }
    },
    {
      "cell_type": "code",
      "source": [
        "student_marks={\n",
        "    \"gullu\":29,\n",
        "    \"Mary\":28,\n",
        "    \"Fati\":30,\n",
        "    \"Esho\":27,\n",
        "    \"Ami\":28\n",
        "    }\n",
        "print(student_marks)\n"
      ],
      "metadata": {
        "colab": {
          "base_uri": "https://localhost:8080/"
        },
        "id": "6_XwiZNqXjZf",
        "outputId": "45316a12-9c94-4d2d-94bc-fe7189584fdf"
      },
      "execution_count": 23,
      "outputs": [
        {
          "output_type": "stream",
          "name": "stdout",
          "text": [
            "{'gullu': 29, 'Mary': 28, 'Fati': 30, 'Esho': 27, 'Ami': 28}\n"
          ]
        }
      ]
    },
    {
      "cell_type": "code",
      "source": [
        "student_marks={\n",
        "    \"gullu\":29,\n",
        "    \"Mary\":28,\n",
        "    \"Fati\":30,\n",
        "    \"Esho\":27,\n",
        "    \"Ami\":28\n",
        "    }\n",
        "student_marks['Mary']=30\n",
        "print(student_marks)"
      ],
      "metadata": {
        "colab": {
          "base_uri": "https://localhost:8080/"
        },
        "id": "zH5vKs42ZQ5d",
        "outputId": "68cf2b8a-4fc5-46f3-d1a0-93c17f34238b"
      },
      "execution_count": 27,
      "outputs": [
        {
          "output_type": "stream",
          "name": "stdout",
          "text": [
            "{'gullu': 29, 'Mary': 30, 'Fati': 30, 'Esho': 27, 'Ami': 28}\n"
          ]
        }
      ]
    },
    {
      "cell_type": "code",
      "source": [
        "student_marks={\n",
        "    \"Mary\":29,\n",
        "    \"Mary\":28,\n",
        "    \"Mary\":30,\n",
        "    \"Mary\":27,\n",
        "    \"Mary\":28\n",
        "    }\n",
        "print(student_marks)"
      ],
      "metadata": {
        "colab": {
          "base_uri": "https://localhost:8080/"
        },
        "id": "dZ_tzwwGYKjw",
        "outputId": "29eaaaa3-562a-4edf-9057-7c408dc975d7"
      },
      "execution_count": 24,
      "outputs": [
        {
          "output_type": "stream",
          "name": "stdout",
          "text": [
            "{'Mary': 28}\n"
          ]
        }
      ]
    },
    {
      "cell_type": "markdown",
      "source": [],
      "metadata": {
        "id": "wvUvaBQ4Evvw"
      }
    }
  ]
}